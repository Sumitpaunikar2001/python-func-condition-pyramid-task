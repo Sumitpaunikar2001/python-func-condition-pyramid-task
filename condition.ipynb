{
 "cells": [
  {
   "cell_type": "markdown",
   "metadata": {},
   "source": [
    "# Math_op usimg function and condition\n"
   ]
  },
  {
   "cell_type": "code",
   "execution_count": 2,
   "metadata": {},
   "outputs": [
    {
     "name": "stdout",
     "output_type": "stream",
     "text": [
      "addition = 1000\n",
      "subtraction = 2000\n",
      "multiplication = 15000\n"
     ]
    }
   ],
   "source": [
    "def mathop (val1,val2,op):\n",
    "    result = val1 + val2\n",
    "    result1 = val1 - val2\n",
    "    result2 = val1 * val2\n",
    "    result3 = val1 / val2\n",
    "    if op == 'addition':\n",
    "        return result\n",
    "    elif op == 'subtraction':\n",
    "        return result1\n",
    "    elif op == 'multiplication':\n",
    "        return result2\n",
    "    else:\n",
    "        return 'operation not define'\n",
    "\n",
    "\n",
    "addition = mathop(550,450,'addition')\n",
    "subtraction = mathop(3800,1800,'subtraction')\n",
    "multiplication = mathop(750,20,'multiplication')\n",
    "\n",
    "\n",
    "print(f'addition = {addition}')\n",
    "print(f'subtraction = {subtraction}')\n",
    "print(f'multiplication = {multiplication}')"
   ]
  },
  {
   "cell_type": "markdown",
   "metadata": {},
   "source": [
    "# Print Pyramid\n"
   ]
  },
  {
   "cell_type": "code",
   "execution_count": 24,
   "metadata": {},
   "outputs": [
    {
     "name": "stdout",
     "output_type": "stream",
     "text": [
      "         *\n",
      "        ***\n",
      "       *****\n",
      "      *******\n",
      "     *********\n",
      "    ***********\n"
     ]
    }
   ],
   "source": [
    "s = 9\n",
    "for p in range(1,12,2):\n",
    "    print(s * ' ' + p * '*')\n",
    "    s=s-1"
   ]
  },
  {
   "cell_type": "code",
   "execution_count": null,
   "metadata": {},
   "outputs": [],
   "source": []
  }
 ],
 "metadata": {
  "kernelspec": {
   "display_name": "Python 3",
   "language": "python",
   "name": "python3"
  },
  "language_info": {
   "codemirror_mode": {
    "name": "ipython",
    "version": 3
   },
   "file_extension": ".py",
   "mimetype": "text/x-python",
   "name": "python",
   "nbconvert_exporter": "python",
   "pygments_lexer": "ipython3",
   "version": "3.12.4"
  }
 },
 "nbformat": 4,
 "nbformat_minor": 2
}
